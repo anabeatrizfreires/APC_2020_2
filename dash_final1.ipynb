{
 "cells": [
  {
   "cell_type": "code",
   "execution_count": 1,
   "id": "existing-binding",
   "metadata": {},
   "outputs": [
    {
     "data": {
      "text/html": [
       "        <script type=\"text/javascript\">\n",
       "        window.PlotlyConfig = {MathJaxConfig: 'local'};\n",
       "        if (window.MathJax) {MathJax.Hub.Config({SVG: {font: \"STIX-Web\"}});}\n",
       "        if (typeof require !== 'undefined') {\n",
       "        require.undef(\"plotly\");\n",
       "        requirejs.config({\n",
       "            paths: {\n",
       "                'plotly': ['https://cdn.plot.ly/plotly-latest.min']\n",
       "            }\n",
       "        });\n",
       "        require(['plotly'], function(Plotly) {\n",
       "            window._Plotly = Plotly;\n",
       "        });\n",
       "        }\n",
       "        </script>\n",
       "        "
      ]
     },
     "metadata": {},
     "output_type": "display_data"
    }
   ],
   "source": [
    "import dash\n",
    "import json\n",
    "import dash_core_components as dcc\n",
    "import dash_html_components as html\n",
    "from dash.dependencies import Input, Output\n",
    "import plotly.offline as py\n",
    "import plotly.graph_objs as go\n",
    "import pandas as pd\n",
    "import plotly.express as px\n",
    "import xlrd\n",
    "import dash_bootstrap_components as dbc\n",
    "from plotly.subplots import make_subplots\n",
    "py.init_notebook_mode(connected=True)"
   ]
  },
  {
   "cell_type": "code",
   "execution_count": 2,
   "id": "artistic-laugh",
   "metadata": {},
   "outputs": [],
   "source": [
    "# abre o arquivo\n",
    "f = open(\"Anuário Estatístico de Energia Elétrica 2020 - Workbook.xlsx - Tabela 2.4.csv\",encoding=\"utf8\")\n",
    "# f.read lê todo o conteúdo do arquivo e retorna uma string\n",
    "# .split(\"\\n\") divide essa string do conteudo em linhas\n",
    "content = f.read().split(\"\\n\")\n",
    "#lista vazia que armazena os anos\n",
    "years = []\n",
    "#for lê a oitava linha que contem os anos dentro do arquivo csv\n",
    "#.split(\",\") separa elementos por vírgula da lista, começando pelo elemento 2 e excluindo os últimos 4\n",
    "for y in content[8].split(\",\")[2:-4]:\n",
    "    #insere na lista years cada elemento de y transformado de string para inteiro\n",
    "    years.append (int(y))\n",
    "\n",
    "def filtra_dados(regiao):\n",
    "    data = []\n",
    "    #for lê todas as linhas da lista\n",
    "    for l in content:\n",
    "        #.split(\",\") separa por vírgula\n",
    "        ls = l.split(\",\")\n",
    "        #condiciona que se o elemento 1 da lista for igual à \"Norte\" prossigo\n",
    "        if ls[1] == regiao:\n",
    "            #determina o começo e fim da lista, partindo do elemento 2 e excluindo os últimos 5\n",
    "            dt = ls[2:-5]\n",
    "            #lê cada elemento da lista filtrada\n",
    "            for l in dt:\n",
    "                #insere na lista data cada elemento l transformado de string para float\n",
    "                data.append(float(l))\n",
    "    return data\n",
    "\n",
    "\n",
    "\n",
    "regioes = ['Norte', 'Nordeste', 'Centro-Oeste', 'Sul', 'Sudeste']#lista das regiões\n",
    "\n"
   ]
  },
  {
   "cell_type": "code",
   "execution_count": 3,
   "id": "exclusive-overall",
   "metadata": {},
   "outputs": [
    {
     "data": {
      "application/vnd.plotly.v1+json": {
       "config": {
        "plotlyServerURL": "https://plot.ly"
       },
       "data": [
        {
         "hoverinfo": "label+value+percent parent",
         "labels": [
          "REGIÕES",
          "Norte",
          "Nordeste",
          "Sudeste",
          "Sul",
          "Centro-Oeste",
          "2012",
          "2012",
          "2012",
          "2012",
          "2012",
          "2013",
          "2013",
          "2013",
          "2013",
          "2013",
          "2014",
          "2014",
          "2014",
          "2014",
          "2014",
          "2015",
          "2015",
          "2015",
          "2015",
          "2015",
          "2016",
          "2016",
          "2016",
          "2016",
          "2016",
          "2017",
          "2017",
          "2017",
          "2017",
          "2017",
          "2018",
          "2018",
          "2018",
          "2018",
          "2018"
         ],
         "parents": [
          "",
          "REGIÕES",
          "REGIÕES",
          "REGIÕES",
          "REGIÕES",
          "REGIÕES",
          "Norte",
          "Nordeste",
          "Sudeste",
          "Sul",
          "Centro-Oeste",
          "Norte",
          "Nordeste",
          "Sudeste",
          "Sul",
          "Centro-Oeste",
          "Norte",
          "Nordeste",
          "Sudeste",
          "Sul",
          "Centro-Oeste",
          "Norte",
          "Nordeste",
          "Sudeste",
          "Sul",
          "Centro-Oeste",
          "Norte",
          "Nordeste",
          "Sudeste",
          "Sul",
          "Centro-Oeste",
          "Norte",
          "Nordeste",
          "Sudeste",
          "Sul",
          "Centro-Oeste",
          "Norte",
          "Nordeste",
          "Sudeste",
          "Sul",
          "Centro-Oeste"
         ],
         "type": "sunburst",
         "values": [
          "",
          0,
          0,
          0,
          0,
          0,
          10.421,
          14.498,
          77.71600000000001,
          13.404000000000002,
          4.638999999999999,
          10.296,
          15.133,
          79.301,
          16.51,
          5.164,
          10.841,
          12.664000000000001,
          75.41,
          16.625,
          5.12,
          11.124,
          10.794,
          72.64399999999999,
          15.975,
          5.303999999999999,
          12.197000000000001,
          11.464,
          75.627,
          19.535,
          5.6339999999999995,
          13.877,
          14.232000000000001,
          85.521,
          26.473000000000003,
          7.105,
          12.207,
          19.41,
          91.944,
          27.811,
          7.7989999999999995
         ]
        }
       ],
       "layout": {
        "extendsunburstcolors": true,
        "height": 700,
        "sunburstcolorway": [
         "#07325a",
         "#135090",
         "#2178bb",
         "#6ca1cf",
         "#91b0d8"
        ],
        "template": {
         "data": {
          "bar": [
           {
            "error_x": {
             "color": "#2a3f5f"
            },
            "error_y": {
             "color": "#2a3f5f"
            },
            "marker": {
             "line": {
              "color": "#E5ECF6",
              "width": 0.5
             }
            },
            "type": "bar"
           }
          ],
          "barpolar": [
           {
            "marker": {
             "line": {
              "color": "#E5ECF6",
              "width": 0.5
             }
            },
            "type": "barpolar"
           }
          ],
          "carpet": [
           {
            "aaxis": {
             "endlinecolor": "#2a3f5f",
             "gridcolor": "white",
             "linecolor": "white",
             "minorgridcolor": "white",
             "startlinecolor": "#2a3f5f"
            },
            "baxis": {
             "endlinecolor": "#2a3f5f",
             "gridcolor": "white",
             "linecolor": "white",
             "minorgridcolor": "white",
             "startlinecolor": "#2a3f5f"
            },
            "type": "carpet"
           }
          ],
          "choropleth": [
           {
            "colorbar": {
             "outlinewidth": 0,
             "ticks": ""
            },
            "type": "choropleth"
           }
          ],
          "contour": [
           {
            "colorbar": {
             "outlinewidth": 0,
             "ticks": ""
            },
            "colorscale": [
             [
              0,
              "#0d0887"
             ],
             [
              0.1111111111111111,
              "#46039f"
             ],
             [
              0.2222222222222222,
              "#7201a8"
             ],
             [
              0.3333333333333333,
              "#9c179e"
             ],
             [
              0.4444444444444444,
              "#bd3786"
             ],
             [
              0.5555555555555556,
              "#d8576b"
             ],
             [
              0.6666666666666666,
              "#ed7953"
             ],
             [
              0.7777777777777778,
              "#fb9f3a"
             ],
             [
              0.8888888888888888,
              "#fdca26"
             ],
             [
              1,
              "#f0f921"
             ]
            ],
            "type": "contour"
           }
          ],
          "contourcarpet": [
           {
            "colorbar": {
             "outlinewidth": 0,
             "ticks": ""
            },
            "type": "contourcarpet"
           }
          ],
          "heatmap": [
           {
            "colorbar": {
             "outlinewidth": 0,
             "ticks": ""
            },
            "colorscale": [
             [
              0,
              "#0d0887"
             ],
             [
              0.1111111111111111,
              "#46039f"
             ],
             [
              0.2222222222222222,
              "#7201a8"
             ],
             [
              0.3333333333333333,
              "#9c179e"
             ],
             [
              0.4444444444444444,
              "#bd3786"
             ],
             [
              0.5555555555555556,
              "#d8576b"
             ],
             [
              0.6666666666666666,
              "#ed7953"
             ],
             [
              0.7777777777777778,
              "#fb9f3a"
             ],
             [
              0.8888888888888888,
              "#fdca26"
             ],
             [
              1,
              "#f0f921"
             ]
            ],
            "type": "heatmap"
           }
          ],
          "heatmapgl": [
           {
            "colorbar": {
             "outlinewidth": 0,
             "ticks": ""
            },
            "colorscale": [
             [
              0,
              "#0d0887"
             ],
             [
              0.1111111111111111,
              "#46039f"
             ],
             [
              0.2222222222222222,
              "#7201a8"
             ],
             [
              0.3333333333333333,
              "#9c179e"
             ],
             [
              0.4444444444444444,
              "#bd3786"
             ],
             [
              0.5555555555555556,
              "#d8576b"
             ],
             [
              0.6666666666666666,
              "#ed7953"
             ],
             [
              0.7777777777777778,
              "#fb9f3a"
             ],
             [
              0.8888888888888888,
              "#fdca26"
             ],
             [
              1,
              "#f0f921"
             ]
            ],
            "type": "heatmapgl"
           }
          ],
          "histogram": [
           {
            "marker": {
             "colorbar": {
              "outlinewidth": 0,
              "ticks": ""
             }
            },
            "type": "histogram"
           }
          ],
          "histogram2d": [
           {
            "colorbar": {
             "outlinewidth": 0,
             "ticks": ""
            },
            "colorscale": [
             [
              0,
              "#0d0887"
             ],
             [
              0.1111111111111111,
              "#46039f"
             ],
             [
              0.2222222222222222,
              "#7201a8"
             ],
             [
              0.3333333333333333,
              "#9c179e"
             ],
             [
              0.4444444444444444,
              "#bd3786"
             ],
             [
              0.5555555555555556,
              "#d8576b"
             ],
             [
              0.6666666666666666,
              "#ed7953"
             ],
             [
              0.7777777777777778,
              "#fb9f3a"
             ],
             [
              0.8888888888888888,
              "#fdca26"
             ],
             [
              1,
              "#f0f921"
             ]
            ],
            "type": "histogram2d"
           }
          ],
          "histogram2dcontour": [
           {
            "colorbar": {
             "outlinewidth": 0,
             "ticks": ""
            },
            "colorscale": [
             [
              0,
              "#0d0887"
             ],
             [
              0.1111111111111111,
              "#46039f"
             ],
             [
              0.2222222222222222,
              "#7201a8"
             ],
             [
              0.3333333333333333,
              "#9c179e"
             ],
             [
              0.4444444444444444,
              "#bd3786"
             ],
             [
              0.5555555555555556,
              "#d8576b"
             ],
             [
              0.6666666666666666,
              "#ed7953"
             ],
             [
              0.7777777777777778,
              "#fb9f3a"
             ],
             [
              0.8888888888888888,
              "#fdca26"
             ],
             [
              1,
              "#f0f921"
             ]
            ],
            "type": "histogram2dcontour"
           }
          ],
          "mesh3d": [
           {
            "colorbar": {
             "outlinewidth": 0,
             "ticks": ""
            },
            "type": "mesh3d"
           }
          ],
          "parcoords": [
           {
            "line": {
             "colorbar": {
              "outlinewidth": 0,
              "ticks": ""
             }
            },
            "type": "parcoords"
           }
          ],
          "pie": [
           {
            "automargin": true,
            "type": "pie"
           }
          ],
          "scatter": [
           {
            "marker": {
             "colorbar": {
              "outlinewidth": 0,
              "ticks": ""
             }
            },
            "type": "scatter"
           }
          ],
          "scatter3d": [
           {
            "line": {
             "colorbar": {
              "outlinewidth": 0,
              "ticks": ""
             }
            },
            "marker": {
             "colorbar": {
              "outlinewidth": 0,
              "ticks": ""
             }
            },
            "type": "scatter3d"
           }
          ],
          "scattercarpet": [
           {
            "marker": {
             "colorbar": {
              "outlinewidth": 0,
              "ticks": ""
             }
            },
            "type": "scattercarpet"
           }
          ],
          "scattergeo": [
           {
            "marker": {
             "colorbar": {
              "outlinewidth": 0,
              "ticks": ""
             }
            },
            "type": "scattergeo"
           }
          ],
          "scattergl": [
           {
            "marker": {
             "colorbar": {
              "outlinewidth": 0,
              "ticks": ""
             }
            },
            "type": "scattergl"
           }
          ],
          "scattermapbox": [
           {
            "marker": {
             "colorbar": {
              "outlinewidth": 0,
              "ticks": ""
             }
            },
            "type": "scattermapbox"
           }
          ],
          "scatterpolar": [
           {
            "marker": {
             "colorbar": {
              "outlinewidth": 0,
              "ticks": ""
             }
            },
            "type": "scatterpolar"
           }
          ],
          "scatterpolargl": [
           {
            "marker": {
             "colorbar": {
              "outlinewidth": 0,
              "ticks": ""
             }
            },
            "type": "scatterpolargl"
           }
          ],
          "scatterternary": [
           {
            "marker": {
             "colorbar": {
              "outlinewidth": 0,
              "ticks": ""
             }
            },
            "type": "scatterternary"
           }
          ],
          "surface": [
           {
            "colorbar": {
             "outlinewidth": 0,
             "ticks": ""
            },
            "colorscale": [
             [
              0,
              "#0d0887"
             ],
             [
              0.1111111111111111,
              "#46039f"
             ],
             [
              0.2222222222222222,
              "#7201a8"
             ],
             [
              0.3333333333333333,
              "#9c179e"
             ],
             [
              0.4444444444444444,
              "#bd3786"
             ],
             [
              0.5555555555555556,
              "#d8576b"
             ],
             [
              0.6666666666666666,
              "#ed7953"
             ],
             [
              0.7777777777777778,
              "#fb9f3a"
             ],
             [
              0.8888888888888888,
              "#fdca26"
             ],
             [
              1,
              "#f0f921"
             ]
            ],
            "type": "surface"
           }
          ],
          "table": [
           {
            "cells": {
             "fill": {
              "color": "#EBF0F8"
             },
             "line": {
              "color": "white"
             }
            },
            "header": {
             "fill": {
              "color": "#C8D4E3"
             },
             "line": {
              "color": "white"
             }
            },
            "type": "table"
           }
          ]
         },
         "layout": {
          "annotationdefaults": {
           "arrowcolor": "#2a3f5f",
           "arrowhead": 0,
           "arrowwidth": 1
          },
          "autotypenumbers": "strict",
          "coloraxis": {
           "colorbar": {
            "outlinewidth": 0,
            "ticks": ""
           }
          },
          "colorscale": {
           "diverging": [
            [
             0,
             "#8e0152"
            ],
            [
             0.1,
             "#c51b7d"
            ],
            [
             0.2,
             "#de77ae"
            ],
            [
             0.3,
             "#f1b6da"
            ],
            [
             0.4,
             "#fde0ef"
            ],
            [
             0.5,
             "#f7f7f7"
            ],
            [
             0.6,
             "#e6f5d0"
            ],
            [
             0.7,
             "#b8e186"
            ],
            [
             0.8,
             "#7fbc41"
            ],
            [
             0.9,
             "#4d9221"
            ],
            [
             1,
             "#276419"
            ]
           ],
           "sequential": [
            [
             0,
             "#0d0887"
            ],
            [
             0.1111111111111111,
             "#46039f"
            ],
            [
             0.2222222222222222,
             "#7201a8"
            ],
            [
             0.3333333333333333,
             "#9c179e"
            ],
            [
             0.4444444444444444,
             "#bd3786"
            ],
            [
             0.5555555555555556,
             "#d8576b"
            ],
            [
             0.6666666666666666,
             "#ed7953"
            ],
            [
             0.7777777777777778,
             "#fb9f3a"
            ],
            [
             0.8888888888888888,
             "#fdca26"
            ],
            [
             1,
             "#f0f921"
            ]
           ],
           "sequentialminus": [
            [
             0,
             "#0d0887"
            ],
            [
             0.1111111111111111,
             "#46039f"
            ],
            [
             0.2222222222222222,
             "#7201a8"
            ],
            [
             0.3333333333333333,
             "#9c179e"
            ],
            [
             0.4444444444444444,
             "#bd3786"
            ],
            [
             0.5555555555555556,
             "#d8576b"
            ],
            [
             0.6666666666666666,
             "#ed7953"
            ],
            [
             0.7777777777777778,
             "#fb9f3a"
            ],
            [
             0.8888888888888888,
             "#fdca26"
            ],
            [
             1,
             "#f0f921"
            ]
           ]
          },
          "colorway": [
           "#636efa",
           "#EF553B",
           "#00cc96",
           "#ab63fa",
           "#FFA15A",
           "#19d3f3",
           "#FF6692",
           "#B6E880",
           "#FF97FF",
           "#FECB52"
          ],
          "font": {
           "color": "#2a3f5f"
          },
          "geo": {
           "bgcolor": "white",
           "lakecolor": "white",
           "landcolor": "#E5ECF6",
           "showlakes": true,
           "showland": true,
           "subunitcolor": "white"
          },
          "hoverlabel": {
           "align": "left"
          },
          "hovermode": "closest",
          "mapbox": {
           "style": "light"
          },
          "paper_bgcolor": "white",
          "plot_bgcolor": "#E5ECF6",
          "polar": {
           "angularaxis": {
            "gridcolor": "white",
            "linecolor": "white",
            "ticks": ""
           },
           "bgcolor": "#E5ECF6",
           "radialaxis": {
            "gridcolor": "white",
            "linecolor": "white",
            "ticks": ""
           }
          },
          "scene": {
           "xaxis": {
            "backgroundcolor": "#E5ECF6",
            "gridcolor": "white",
            "gridwidth": 2,
            "linecolor": "white",
            "showbackground": true,
            "ticks": "",
            "zerolinecolor": "white"
           },
           "yaxis": {
            "backgroundcolor": "#E5ECF6",
            "gridcolor": "white",
            "gridwidth": 2,
            "linecolor": "white",
            "showbackground": true,
            "ticks": "",
            "zerolinecolor": "white"
           },
           "zaxis": {
            "backgroundcolor": "#E5ECF6",
            "gridcolor": "white",
            "gridwidth": 2,
            "linecolor": "white",
            "showbackground": true,
            "ticks": "",
            "zerolinecolor": "white"
           }
          },
          "shapedefaults": {
           "line": {
            "color": "#2a3f5f"
           }
          },
          "ternary": {
           "aaxis": {
            "gridcolor": "white",
            "linecolor": "white",
            "ticks": ""
           },
           "baxis": {
            "gridcolor": "white",
            "linecolor": "white",
            "ticks": ""
           },
           "bgcolor": "#E5ECF6",
           "caxis": {
            "gridcolor": "white",
            "linecolor": "white",
            "ticks": ""
           }
          },
          "title": {
           "x": 0.05
          },
          "xaxis": {
           "automargin": true,
           "gridcolor": "white",
           "linecolor": "white",
           "ticks": "",
           "title": {
            "standoff": 15
           },
           "zerolinecolor": "white",
           "zerolinewidth": 2
          },
          "yaxis": {
           "automargin": true,
           "gridcolor": "white",
           "linecolor": "white",
           "ticks": "",
           "title": {
            "standoff": 15
           },
           "zerolinecolor": "white",
           "zerolinewidth": 2
          }
         }
        },
        "title": {
         "font": {
          "size": 20
         },
         "text": "Consumo Livre por Região [GWh]",
         "x": 0.5,
         "xref": "paper",
         "y": 0.95,
         "yref": "container"
        }
       }
      },
      "text/html": [
       "<div>                            <div id=\"d88c0f31-3d10-4d26-825f-05e4df019438\" class=\"plotly-graph-div\" style=\"height:700px; width:100%;\"></div>            <script type=\"text/javascript\">                require([\"plotly\"], function(Plotly) {                    window.PLOTLYENV=window.PLOTLYENV || {};                                    if (document.getElementById(\"d88c0f31-3d10-4d26-825f-05e4df019438\")) {                    Plotly.newPlot(                        \"d88c0f31-3d10-4d26-825f-05e4df019438\",                        [{\"hoverinfo\": \"label+value+percent parent\", \"labels\": [\"REGI\\u00d5ES\", \"Norte\", \"Nordeste\", \"Sudeste\", \"Sul\", \"Centro-Oeste\", \"2012\", \"2012\", \"2012\", \"2012\", \"2012\", \"2013\", \"2013\", \"2013\", \"2013\", \"2013\", \"2014\", \"2014\", \"2014\", \"2014\", \"2014\", \"2015\", \"2015\", \"2015\", \"2015\", \"2015\", \"2016\", \"2016\", \"2016\", \"2016\", \"2016\", \"2017\", \"2017\", \"2017\", \"2017\", \"2017\", \"2018\", \"2018\", \"2018\", \"2018\", \"2018\"], \"parents\": [\"\", \"REGI\\u00d5ES\", \"REGI\\u00d5ES\", \"REGI\\u00d5ES\", \"REGI\\u00d5ES\", \"REGI\\u00d5ES\", \"Norte\", \"Nordeste\", \"Sudeste\", \"Sul\", \"Centro-Oeste\", \"Norte\", \"Nordeste\", \"Sudeste\", \"Sul\", \"Centro-Oeste\", \"Norte\", \"Nordeste\", \"Sudeste\", \"Sul\", \"Centro-Oeste\", \"Norte\", \"Nordeste\", \"Sudeste\", \"Sul\", \"Centro-Oeste\", \"Norte\", \"Nordeste\", \"Sudeste\", \"Sul\", \"Centro-Oeste\", \"Norte\", \"Nordeste\", \"Sudeste\", \"Sul\", \"Centro-Oeste\", \"Norte\", \"Nordeste\", \"Sudeste\", \"Sul\", \"Centro-Oeste\"], \"type\": \"sunburst\", \"values\": [\"\", 0, 0, 0, 0, 0, 10.421, 14.498, 77.71600000000001, 13.404000000000002, 4.638999999999999, 10.296, 15.133, 79.301, 16.51, 5.164, 10.841, 12.664000000000001, 75.41, 16.625, 5.12, 11.124, 10.794, 72.64399999999999, 15.975, 5.303999999999999, 12.197000000000001, 11.464, 75.627, 19.535, 5.6339999999999995, 13.877, 14.232000000000001, 85.521, 26.473000000000003, 7.105, 12.207, 19.41, 91.944, 27.811, 7.7989999999999995]}],                        {\"extendsunburstcolors\": true, \"height\": 700, \"sunburstcolorway\": [\"#07325a\", \"#135090\", \"#2178bb\", \"#6ca1cf\", \"#91b0d8\"], \"template\": {\"data\": {\"bar\": [{\"error_x\": {\"color\": \"#2a3f5f\"}, \"error_y\": {\"color\": \"#2a3f5f\"}, \"marker\": {\"line\": {\"color\": \"#E5ECF6\", \"width\": 0.5}}, \"type\": \"bar\"}], \"barpolar\": [{\"marker\": {\"line\": {\"color\": \"#E5ECF6\", \"width\": 0.5}}, \"type\": \"barpolar\"}], \"carpet\": [{\"aaxis\": {\"endlinecolor\": \"#2a3f5f\", \"gridcolor\": \"white\", \"linecolor\": \"white\", \"minorgridcolor\": \"white\", \"startlinecolor\": \"#2a3f5f\"}, \"baxis\": {\"endlinecolor\": \"#2a3f5f\", \"gridcolor\": \"white\", \"linecolor\": \"white\", \"minorgridcolor\": \"white\", \"startlinecolor\": \"#2a3f5f\"}, \"type\": \"carpet\"}], \"choropleth\": [{\"colorbar\": {\"outlinewidth\": 0, \"ticks\": \"\"}, \"type\": \"choropleth\"}], \"contour\": [{\"colorbar\": {\"outlinewidth\": 0, \"ticks\": \"\"}, \"colorscale\": [[0.0, \"#0d0887\"], [0.1111111111111111, \"#46039f\"], [0.2222222222222222, \"#7201a8\"], [0.3333333333333333, \"#9c179e\"], [0.4444444444444444, \"#bd3786\"], [0.5555555555555556, \"#d8576b\"], [0.6666666666666666, \"#ed7953\"], [0.7777777777777778, \"#fb9f3a\"], [0.8888888888888888, \"#fdca26\"], [1.0, \"#f0f921\"]], \"type\": \"contour\"}], \"contourcarpet\": [{\"colorbar\": {\"outlinewidth\": 0, \"ticks\": \"\"}, \"type\": \"contourcarpet\"}], \"heatmap\": [{\"colorbar\": {\"outlinewidth\": 0, \"ticks\": \"\"}, \"colorscale\": [[0.0, \"#0d0887\"], [0.1111111111111111, \"#46039f\"], [0.2222222222222222, \"#7201a8\"], [0.3333333333333333, \"#9c179e\"], [0.4444444444444444, \"#bd3786\"], [0.5555555555555556, \"#d8576b\"], [0.6666666666666666, \"#ed7953\"], [0.7777777777777778, \"#fb9f3a\"], [0.8888888888888888, \"#fdca26\"], [1.0, \"#f0f921\"]], \"type\": \"heatmap\"}], \"heatmapgl\": [{\"colorbar\": {\"outlinewidth\": 0, \"ticks\": \"\"}, \"colorscale\": [[0.0, \"#0d0887\"], [0.1111111111111111, \"#46039f\"], [0.2222222222222222, \"#7201a8\"], [0.3333333333333333, \"#9c179e\"], [0.4444444444444444, \"#bd3786\"], [0.5555555555555556, \"#d8576b\"], [0.6666666666666666, \"#ed7953\"], [0.7777777777777778, \"#fb9f3a\"], [0.8888888888888888, \"#fdca26\"], [1.0, \"#f0f921\"]], \"type\": \"heatmapgl\"}], \"histogram\": [{\"marker\": {\"colorbar\": {\"outlinewidth\": 0, \"ticks\": \"\"}}, \"type\": \"histogram\"}], \"histogram2d\": [{\"colorbar\": {\"outlinewidth\": 0, \"ticks\": \"\"}, \"colorscale\": [[0.0, \"#0d0887\"], [0.1111111111111111, \"#46039f\"], [0.2222222222222222, \"#7201a8\"], [0.3333333333333333, \"#9c179e\"], [0.4444444444444444, \"#bd3786\"], [0.5555555555555556, \"#d8576b\"], [0.6666666666666666, \"#ed7953\"], [0.7777777777777778, \"#fb9f3a\"], [0.8888888888888888, \"#fdca26\"], [1.0, \"#f0f921\"]], \"type\": \"histogram2d\"}], \"histogram2dcontour\": [{\"colorbar\": {\"outlinewidth\": 0, \"ticks\": \"\"}, \"colorscale\": [[0.0, \"#0d0887\"], [0.1111111111111111, \"#46039f\"], [0.2222222222222222, \"#7201a8\"], [0.3333333333333333, \"#9c179e\"], [0.4444444444444444, \"#bd3786\"], [0.5555555555555556, \"#d8576b\"], [0.6666666666666666, \"#ed7953\"], [0.7777777777777778, \"#fb9f3a\"], [0.8888888888888888, \"#fdca26\"], [1.0, \"#f0f921\"]], \"type\": \"histogram2dcontour\"}], \"mesh3d\": [{\"colorbar\": {\"outlinewidth\": 0, \"ticks\": \"\"}, \"type\": \"mesh3d\"}], \"parcoords\": [{\"line\": {\"colorbar\": {\"outlinewidth\": 0, \"ticks\": \"\"}}, \"type\": \"parcoords\"}], \"pie\": [{\"automargin\": true, \"type\": \"pie\"}], \"scatter\": [{\"marker\": {\"colorbar\": {\"outlinewidth\": 0, \"ticks\": \"\"}}, \"type\": \"scatter\"}], \"scatter3d\": [{\"line\": {\"colorbar\": {\"outlinewidth\": 0, \"ticks\": \"\"}}, \"marker\": {\"colorbar\": {\"outlinewidth\": 0, \"ticks\": \"\"}}, \"type\": \"scatter3d\"}], \"scattercarpet\": [{\"marker\": {\"colorbar\": {\"outlinewidth\": 0, \"ticks\": \"\"}}, \"type\": \"scattercarpet\"}], \"scattergeo\": [{\"marker\": {\"colorbar\": {\"outlinewidth\": 0, \"ticks\": \"\"}}, \"type\": \"scattergeo\"}], \"scattergl\": [{\"marker\": {\"colorbar\": {\"outlinewidth\": 0, \"ticks\": \"\"}}, \"type\": \"scattergl\"}], \"scattermapbox\": [{\"marker\": {\"colorbar\": {\"outlinewidth\": 0, \"ticks\": \"\"}}, \"type\": \"scattermapbox\"}], \"scatterpolar\": [{\"marker\": {\"colorbar\": {\"outlinewidth\": 0, \"ticks\": \"\"}}, \"type\": \"scatterpolar\"}], \"scatterpolargl\": [{\"marker\": {\"colorbar\": {\"outlinewidth\": 0, \"ticks\": \"\"}}, \"type\": \"scatterpolargl\"}], \"scatterternary\": [{\"marker\": {\"colorbar\": {\"outlinewidth\": 0, \"ticks\": \"\"}}, \"type\": \"scatterternary\"}], \"surface\": [{\"colorbar\": {\"outlinewidth\": 0, \"ticks\": \"\"}, \"colorscale\": [[0.0, \"#0d0887\"], [0.1111111111111111, \"#46039f\"], [0.2222222222222222, \"#7201a8\"], [0.3333333333333333, \"#9c179e\"], [0.4444444444444444, \"#bd3786\"], [0.5555555555555556, \"#d8576b\"], [0.6666666666666666, \"#ed7953\"], [0.7777777777777778, \"#fb9f3a\"], [0.8888888888888888, \"#fdca26\"], [1.0, \"#f0f921\"]], \"type\": \"surface\"}], \"table\": [{\"cells\": {\"fill\": {\"color\": \"#EBF0F8\"}, \"line\": {\"color\": \"white\"}}, \"header\": {\"fill\": {\"color\": \"#C8D4E3\"}, \"line\": {\"color\": \"white\"}}, \"type\": \"table\"}]}, \"layout\": {\"annotationdefaults\": {\"arrowcolor\": \"#2a3f5f\", \"arrowhead\": 0, \"arrowwidth\": 1}, \"autotypenumbers\": \"strict\", \"coloraxis\": {\"colorbar\": {\"outlinewidth\": 0, \"ticks\": \"\"}}, \"colorscale\": {\"diverging\": [[0, \"#8e0152\"], [0.1, \"#c51b7d\"], [0.2, \"#de77ae\"], [0.3, \"#f1b6da\"], [0.4, \"#fde0ef\"], [0.5, \"#f7f7f7\"], [0.6, \"#e6f5d0\"], [0.7, \"#b8e186\"], [0.8, \"#7fbc41\"], [0.9, \"#4d9221\"], [1, \"#276419\"]], \"sequential\": [[0.0, \"#0d0887\"], [0.1111111111111111, \"#46039f\"], [0.2222222222222222, \"#7201a8\"], [0.3333333333333333, \"#9c179e\"], [0.4444444444444444, \"#bd3786\"], [0.5555555555555556, \"#d8576b\"], [0.6666666666666666, \"#ed7953\"], [0.7777777777777778, \"#fb9f3a\"], [0.8888888888888888, \"#fdca26\"], [1.0, \"#f0f921\"]], \"sequentialminus\": [[0.0, \"#0d0887\"], [0.1111111111111111, \"#46039f\"], [0.2222222222222222, \"#7201a8\"], [0.3333333333333333, \"#9c179e\"], [0.4444444444444444, \"#bd3786\"], [0.5555555555555556, \"#d8576b\"], [0.6666666666666666, \"#ed7953\"], [0.7777777777777778, \"#fb9f3a\"], [0.8888888888888888, \"#fdca26\"], [1.0, \"#f0f921\"]]}, \"colorway\": [\"#636efa\", \"#EF553B\", \"#00cc96\", \"#ab63fa\", \"#FFA15A\", \"#19d3f3\", \"#FF6692\", \"#B6E880\", \"#FF97FF\", \"#FECB52\"], \"font\": {\"color\": \"#2a3f5f\"}, \"geo\": {\"bgcolor\": \"white\", \"lakecolor\": \"white\", \"landcolor\": \"#E5ECF6\", \"showlakes\": true, \"showland\": true, \"subunitcolor\": \"white\"}, \"hoverlabel\": {\"align\": \"left\"}, \"hovermode\": \"closest\", \"mapbox\": {\"style\": \"light\"}, \"paper_bgcolor\": \"white\", \"plot_bgcolor\": \"#E5ECF6\", \"polar\": {\"angularaxis\": {\"gridcolor\": \"white\", \"linecolor\": \"white\", \"ticks\": \"\"}, \"bgcolor\": \"#E5ECF6\", \"radialaxis\": {\"gridcolor\": \"white\", \"linecolor\": \"white\", \"ticks\": \"\"}}, \"scene\": {\"xaxis\": {\"backgroundcolor\": \"#E5ECF6\", \"gridcolor\": \"white\", \"gridwidth\": 2, \"linecolor\": \"white\", \"showbackground\": true, \"ticks\": \"\", \"zerolinecolor\": \"white\"}, \"yaxis\": {\"backgroundcolor\": \"#E5ECF6\", \"gridcolor\": \"white\", \"gridwidth\": 2, \"linecolor\": \"white\", \"showbackground\": true, \"ticks\": \"\", \"zerolinecolor\": \"white\"}, \"zaxis\": {\"backgroundcolor\": \"#E5ECF6\", \"gridcolor\": \"white\", \"gridwidth\": 2, \"linecolor\": \"white\", \"showbackground\": true, \"ticks\": \"\", \"zerolinecolor\": \"white\"}}, \"shapedefaults\": {\"line\": {\"color\": \"#2a3f5f\"}}, \"ternary\": {\"aaxis\": {\"gridcolor\": \"white\", \"linecolor\": \"white\", \"ticks\": \"\"}, \"baxis\": {\"gridcolor\": \"white\", \"linecolor\": \"white\", \"ticks\": \"\"}, \"bgcolor\": \"#E5ECF6\", \"caxis\": {\"gridcolor\": \"white\", \"linecolor\": \"white\", \"ticks\": \"\"}}, \"title\": {\"x\": 0.05}, \"xaxis\": {\"automargin\": true, \"gridcolor\": \"white\", \"linecolor\": \"white\", \"ticks\": \"\", \"title\": {\"standoff\": 15}, \"zerolinecolor\": \"white\", \"zerolinewidth\": 2}, \"yaxis\": {\"automargin\": true, \"gridcolor\": \"white\", \"linecolor\": \"white\", \"ticks\": \"\", \"title\": {\"standoff\": 15}, \"zerolinecolor\": \"white\", \"zerolinewidth\": 2}}}, \"title\": {\"font\": {\"size\": 20}, \"text\": \"Consumo Livre por Regi\\u00e3o [GWh]\", \"x\": 0.5, \"xref\": \"paper\", \"y\": 0.95, \"yref\": \"container\"}},                        {\"responsive\": true}                    ).then(function(){\n",
       "                            \n",
       "var gd = document.getElementById('d88c0f31-3d10-4d26-825f-05e4df019438');\n",
       "var x = new MutationObserver(function (mutations, observer) {{\n",
       "        var display = window.getComputedStyle(gd).display;\n",
       "        if (!display || display === 'none') {{\n",
       "            console.log([gd, 'removed!']);\n",
       "            Plotly.purge(gd);\n",
       "            observer.disconnect();\n",
       "        }}\n",
       "}});\n",
       "\n",
       "// Listen for the removal of the full notebook cells\n",
       "var notebookContainer = gd.closest('#notebook-container');\n",
       "if (notebookContainer) {{\n",
       "    x.observe(notebookContainer, {childList: true});\n",
       "}}\n",
       "\n",
       "// Listen for the clearing of the current output cell\n",
       "var outputEl = gd.closest('.output');\n",
       "if (outputEl) {{\n",
       "    x.observe(outputEl, {childList: true});\n",
       "}}\n",
       "\n",
       "                        })                };                });            </script>        </div>"
      ]
     },
     "metadata": {},
     "output_type": "display_data"
    }
   ],
   "source": [
    "# Leitura do arquivo.csv\n",
    "df = pd.read_csv('consumo.csv', encoding='UTF-8', sep=';') # Ler o arquivo em csv, o UTF-8 Ler os acentos cedilhas\n",
    "dados=df.values  # Transformação do dataframe em array\n",
    "\n",
    "# Criação das listas vazias\n",
    "dados_2012=[]\n",
    "dados_2013=[]\n",
    "dados_2014=[]\n",
    "dados_2015=[]\n",
    "dados_2016=[]\n",
    "dados_2017=[]\n",
    "dados_2018=[]\n",
    "regioes=[]\n",
    "colors=['#07325a','#135090','#2178bb','#6ca1cf','#91b0d8'] # Atribuição das cores\n",
    "\n",
    "# Filtragem de dados em listas usando o laço for\n",
    "for dado in dados:\n",
    "    # Adicionando os elementos de acordo com a posição\n",
    "    regioes.append(dado[0]) \n",
    "    dados_2012.append(dado[1])\n",
    "    dados_2013.append(dado[2])\n",
    "    dados_2014.append(dado[3])\n",
    "    dados_2015.append(dado[4])\n",
    "    dados_2016.append(dado[5])\n",
    "    dados_2017.append(dado[6])\n",
    "    dados_2018.append(dado[7])\n",
    "\n",
    "# exclusão dos elementos desnecessários \n",
    "del regioes[0:6]  \n",
    "del dados_2012[0:6]\n",
    "del dados_2013[0:6]\n",
    "del dados_2014[0:6]\n",
    "del dados_2015[0:6]\n",
    "del dados_2016[0:6]\n",
    "del dados_2017[0:6]\n",
    "del dados_2018[0:6]\n",
    "\n",
    "# Criação do gráfico Sunburst\n",
    "# Criação da lista para atribuição dos nomes que aparecem no gráfico \n",
    "labels=['REGIÕES']+ regioes+['2012']*5+['2013']*5+['2014']*5+['2015']*5+['2016']*5+['2017']*5+['2018']*5\n",
    "# Atribuição de quais elementos da lista label são filhos de quem\n",
    "parents=['']+['REGIÕES']*5+regioes*7 \n",
    "# Atribuição dos valores referente a lista label\n",
    "values=['']+[0]*5+dados_2012 +dados_2013 +dados_2014+dados_2015+dados_2016+dados_2017+dados_2018\n",
    "'''print (labels)\n",
    "print (parents)\n",
    "print (values)'''\n",
    "\n",
    "# Atribuição dos elementos que vão aparecer no gráfico\n",
    "consumo_livre =go.Figure(go.Sunburst(labels=labels,parents=parents,values=values))\n",
    "consumo_livre.update_traces(hoverinfo=\"label+value+percent parent\") # Informações do hover\n",
    "consumo_livre.update_layout(title=dict(    #\"dict()\"Função que atribui uma série de caracteristicas a variável(dicionário)\n",
    "    text='Consumo Livre por Região [GWh]',\n",
    "    font=dict(size=20),\n",
    "    xref='paper', # Área central do gráfico\n",
    "    yref='container', # Área externa ao paper\n",
    "    x=0.5, # Faz o posicionamento horizontal do texto de acordo com o xref\n",
    "    y=0.95 # Faz o posicionamento vertical do texto de acordo com yref\n",
    "),\n",
    "height=700, # Condicionamento do tamanho do texto\n",
    "sunburstcolorway =colors,\n",
    "extendsunburstcolors = True) # Concede aos filhos do elemento pai uma variação da mesma cor"
   ]
  },
  {
   "cell_type": "code",
   "execution_count": 4,
   "id": "professional-repository",
   "metadata": {},
   "outputs": [],
   "source": [
    "#---------------------------------------------Buscando arquivo.xls e a tabela-----------------------------------------------\n",
    "wb= xlrd.open_workbook('base_consumo.xls')             #xlrd Abre o arquivo xls\n",
    "wc= xlrd.open_workbook('base_pibcorrente.xls')        #xlrd Abre o arquivo xls\n",
    "p= wb.sheet_by_name('Tabela 3.1')                      #sheet Escolhe a tabela a partir do nome\n",
    "p1=wc.sheet_by_name('Tabela')                          #sheet Escolhe a tabela a partir do nome\n",
    "\n",
    "#Pegando apenas os dados da tabela que nos interessa de consumo\n",
    "dados12=[]                                               #Declara uma matriz\n",
    "coluna12=[] \n",
    "for i in range(7):                                     #Executa o ciclo criando uma lista de 0 a 7\n",
    "    j=i+2                                              #Receberá os valores das colunas das tabelas e define o que acontece depois de receber um número \n",
    "    coluna12=p.col_values(j)                             #Recebe os valores das tabelas\n",
    "    dados12.append(coluna12[10:15])                        #Pega os valores da coluna e transforma em um dado na matriz\n",
    "\n",
    "#Pegando apenas os dados da tabela de PIB\n",
    "i=0                                                    #Declara uma variável como vazio\n",
    "j=0                                                    #Declara uma variável como vazio\n",
    "dados13=[]                                              #Declara uma matriz\n",
    "coluna13=[]                                              \n",
    "for i in range(7):                                     #Executa o ciclo criando uma lista de 0 a 7\n",
    "    j=i+1                                              #Receberá os valores das colunas das tabelas e define o que acontece depois de receber um número \n",
    "    coluna13=p1.col_values(j)                           #Recebe os valores das tabelas\n",
    "    dados13.append(coluna13[4:9])                        #Pega os valores da coluna e transforma em um dado na matriz\n",
    "\n",
    "\n"
   ]
  },
  {
   "cell_type": "code",
   "execution_count": 5,
   "id": "private-student",
   "metadata": {},
   "outputs": [],
   "source": [
    "# Acessa o  arquivo\n",
    "\n",
    "df = xlrd.open_workbook('202.xls')\n",
    "tabela = df.sheet_by_name('Tabela 2.14')\n",
    "\n",
    "\n",
    "\n",
    "dados = []                                    # Declarando uma matriz \n",
    "coluna = []\n",
    "for i in range(8):                            # Total de anos que serão codados (0 a 8)                      \n",
    "    j = i + 1                                 # Variável que receberá os valores da coluna\n",
    "    coluna = tabela.col_values(j)             # col_values recebe os valores das tabelas e vai colocar na coluna\n",
    "    dados.append(coluna[10:15])               # Adiciona os valores da coluna e transforma em um dado \n",
    "\n",
    "\n"
   ]
  },
  {
   "cell_type": "code",
   "execution_count": 6,
   "id": "searching-antibody",
   "metadata": {},
   "outputs": [],
   "source": [
    "#---------------------------------------------------------Função de nomear---------------------------------------------------------------------------------------\n",
    "def name_to_sigla(name):                                                                #Renomeia as siglas para relacionar as do arquivo json com as do arquivo csv\n",
    "    if name == \"Norte\":                                                                 #Se sigla igual à Norte\n",
    "        return \"N\"                                                                      #Retorna N\n",
    "    if name == \"Nordeste\":                                                              #Se sigla igual à Nordeste\n",
    "        return \"NE\"                                                                     #Retorna NE\n",
    "    if name == \"Centro-Oeste\":                                                          #Se sigla igual à Centro-Oeste\n",
    "        return \"CO\"                                                                     #Retorna CO\n",
    "    if name == \"Sudeste\":                                                               #Se sigla igual à Sudeste\n",
    "        return \"SE\"                                                                     #Retorna SE\n",
    "    if name == \"Sul\":                                                                   #Se sigla igual à Sul\n",
    "        return \"S\"                                                                      #Retorna S"
   ]
  },
  {
   "cell_type": "code",
   "execution_count": 7,
   "id": "excellent-commissioner",
   "metadata": {},
   "outputs": [],
   "source": [
    "#-------------------------------------------------Leitura de json-----------------------------------------------------------------\n",
    "f = open(\"brazil_reg.json\")                                                            #Abre o arquivo GEOJSON dividindo o mapa por região\n",
    "br = json.loads(f.read())                                                              #Lê arquivo json"
   ]
  },
  {
   "cell_type": "code",
   "execution_count": null,
   "id": "heated-journalist",
   "metadata": {},
   "outputs": [
    {
     "name": "stdout",
     "output_type": "stream",
     "text": [
      "Dash is running on http://127.0.0.1:8050/\n",
      "\n",
      " * Serving Flask app \"__main__\" (lazy loading)\n",
      " * Environment: production\n",
      "\u001b[31m   WARNING: This is a development server. Do not use it in a production deployment.\u001b[0m\n",
      "\u001b[2m   Use a production WSGI server instead.\u001b[0m\n",
      " * Debug mode: on\n"
     ]
    }
   ],
   "source": [
    "#-------------------------------------------------Dash--------------------------------------------------------------\n",
    "\n",
    "app = dash.Dash(__name__, external_stylesheets=[dbc.themes.LUX])  \n",
    "app.layout = html.Div(children=[                                                        #Div realiza a divisão da pagina \n",
    "    html.H1(children= 'Panorama da Energia Elétrica no Brasil', style = {\"text-align\":\"center\"}), \n",
    "    dcc.Dropdown(\n",
    "        id = \"filtro\",\n",
    "        options = [{'label': regiao, 'value': regiao} for regiao in regioes],\n",
    "        value = \"Norte\",\n",
    "        clearable = False\n",
    "        ),\n",
    "    dcc.Graph(id = \"geracao\"),\n",
    "    \n",
    "    html.Hr(),\n",
    "    html.Div([dcc.Graph(figure = consumo_livre)]),\n",
    "    \n",
    "    html.Hr(), # Divisão por linha física\n",
    "    html.Div([                                                                      # Divisão real entre o primeiro drop e os gráficos\n",
    "        dcc.Dropdown(\n",
    "            id='classe',\n",
    "            options=[\n",
    "                {'label': 'Norte', 'value': 'Nor'},\n",
    "                {'label': 'Nordeste', 'value': 'Nord'},\n",
    "                {'label': 'Sudeste', 'value': 'Sd'},\n",
    "                {'label': 'Sul', 'value': 'Sl'},\n",
    "                {'label': 'Centro-Oeste', 'value': 'CO'}],\n",
    "            value='Nor'\n",
    "            ),\n",
    "        dcc.Graph(id='fig45'), \n",
    "        \n",
    "    html.Hr(),\n",
    "    html.Div([\n",
    "        dcc.Dropdown(\n",
    "            id='demo-dropdown',\n",
    "            options=[\n",
    "                {'label': '2012', 'value': '2012'},\n",
    "                {'label': '2013', 'value': '2013'},\n",
    "                {'label': '2014', 'value': '2014'},\n",
    "                {'label': '2015', 'value': '2015'},\n",
    "                {'label': '2016', 'value': '2016'},\n",
    "                {'label': '2017', 'value': '2017'},\n",
    "                {'label': '2018', 'value': '2018'}],\n",
    "            value='2012',\n",
    "            ),\n",
    "        dcc.Graph(id='fig11'),\n",
    "        \n",
    "    html.Hr(),                                                                          #Divisão de 1 linha\n",
    "    html.Div([                                                                          #Divisão da pagina     \n",
    "        dcc.Dropdown(id='classe1',                                                      #Nome da ID dos gráficos\n",
    "        options=[\n",
    "            {'label': '2012', 'value': '2012'},                                         #Declaração de label - 2012\n",
    "            {'label': '2013', 'value': '2013'},                                         #Declaração de label - 2013\n",
    "            {'label': '2014', 'value': '2014'},                                         #Declaração de label - 2014\n",
    "            {'label': '2015', 'value': '2015'},                                         #Declaração de label - 2015\n",
    "            {'label': '2016', 'value': '2016'},                                         #Declaração de label - 2016\n",
    "            {'label': '2017', 'value': '2017'},                                         #Declaração de label - 2017\n",
    "            {'label': '2018', 'value': '2018'}                                          #Declaração de label - 2018\n",
    "        ],\n",
    "        value='2012'),                                                                  #Inicia pela label 2012\n",
    "                                                 \n",
    "        ],style={'color':'blue', 'width':'20%'}),                                       #Color é referente a cor da grade\n",
    "        dcc.Graph(id='fig_ano_2012'),\n",
    "                                                 # Valor a princípio será de cama_mesa_banho    \n",
    "    ],style={'color':'blue', 'width':'100%'}), # width= quanto de espaço toma da tela           \n",
    "])])\n",
    "@app.callback(                                                                          #Declaração de entradas e saída      \n",
    "    Output('fig_ano_2012', 'figure'),                                                   #As saída são as figuras\n",
    "    Input('classe1', 'value') \n",
    ")\n",
    "#-------------------------------------------Gráfico-------------------------------------------------------------------------------------------------------------------------------\n",
    "def luz_para_todos(year):\n",
    "    f = open(\"Anuário Estatístico de Energia Elétrica 2020 - Workbook.xlsx - Tabela 2.24.csv\")\n",
    "    lines = f.read().split(\"\\n\")                                                           # f.read lê todo o conteúdo do arquivo e retorna uma string\n",
    "                                                                                           # .split(\"\\n\") divide essa string do conteudo em linhas\n",
    "    siglas = []                                                                            #Lista vazia que armazena as siglas\n",
    "\n",
    "    populations = []                                                                       #Lista vazia que armazena os dados de população                                                                         #Determinação dos anos\n",
    "\n",
    "    for l in lines[10:-2]:                                                                 #Lê as linhas começando da linha 10 e excluindo as duas últimas linhas\n",
    "        ls = l.split(\",\")                                                                  #.split(\",\") separa elementos por vírgula da lista\n",
    "        siglas.append(name_to_sigla(ls[1]))                                                #Insere na lista siglas cada elemento de name_to_sigla que esteja na posição 1 da lista\n",
    "        population_str = ls[int(year[-1])].strip()                                         #.strip retira todos os espaços do começo e do inicio da string então '   -    ' fica '-'\n",
    "        if population_str == '-':                                                          #Compara a string recebida com o '-'\n",
    "            population = 0                                                                 #Se True '-' é igual a 0\n",
    "        else:\n",
    "            population = float(population_str)                                             #Se False transforma a string recebida num float\n",
    "\n",
    "        populations.append(population)                                                     #Insere na lista population cada elemento de population\n",
    "\n",
    "  \n",
    "    d = {\"regiao\": siglas, \"populacao\": populations}  \n",
    "\n",
    "    fig = px.choropleth(d, geojson=br, locations='regiao', color='populacao',             #Grafico de heatmap, com geojson dividido por região do br\n",
    "                                 color_continuous_scale=\"PuBu\",                           #Cor definida\n",
    "                                featureidkey=\"properties.SIGLA\",                          #Chave de interesse \n",
    "                               range_color=(0, 200),                                      #A internsidade das cores, o range\n",
    "                               scope=\"south america\",                                     #Mapa da america do sul\n",
    "                               labels={'populacao':'População (mil)'},                    #Label do gráfico\n",
    "                          )\n",
    "    fig.update_layout(title = dict(\n",
    "                                text='Distribuição Regional do Programa Luz Para Todos no Ano de {} [por mil habitantes]'.format(year),\n",
    "                                font=dict(size=20),\n",
    "                                xref='paper', # Área central do gráfico\n",
    "                                yref='container', # Área externa ao paper\n",
    "                                x=0.5, # Faz o posicionamento horizontal do texto de acordo com o xref\n",
    "                                y=0.95),\n",
    "    )\n",
    "    return fig\n",
    "                                                        \n",
    "\n",
    "\n",
    "@app.callback(\n",
    "   Output('fig11', 'figure'),\n",
    "   Input('demo-dropdown', 'value')\n",
    ")\n",
    "def tarifa(qq):\n",
    "    if qq == '2012':\n",
    "        x=1\n",
    "    if qq == '2013':\n",
    "        x=2\n",
    "    if qq == '2014':\n",
    "        x=3\n",
    "    if qq == '2015':\n",
    "        x=4\n",
    "    if qq == '2016':\n",
    "        x=5\n",
    "    if qq == '2017':\n",
    "        x=6\n",
    "    if qq == '2018':\n",
    "        x=7                                                 \n",
    "    h = 0                                               # Variável vazia para coluna\n",
    "    m = 0                                               # Variável vazia para linha \n",
    "    tabela = [[1 for i in range(2)] for i in range(5)]  # Matriz 5 x 2 \n",
    "    for q in range(5):                                  # q armazena as regiões que o range vai rodar 5x                              \n",
    "        for l in range(1):                             # Formando uma Matriz 5x2 \n",
    "           tabela[h][0] = dados[0][q]                   \n",
    "           tabela[h][1] = dados[x][q]                 \n",
    "           h += 1\n",
    "           m += 1\n",
    "\n",
    "    #print(tabela)\n",
    "    anos = []      \n",
    "    for dado in tabela:                              # Procurar o dado em uma tabela\n",
    "        anos.append(dado[1])                         # Adiciona os valores dos dados aos anos \n",
    "    valor = []\n",
    "    for dado in tabela:\n",
    "        valor.append(dado[0])\n",
    "   \n",
    "    # -----------Gráfico\n",
    "    z = 2011 + x                                    # 2011 + (0-8) dos anos desejados \n",
    "    barra = go.Bar(x= anos,                         # eixo x, em anos\n",
    "                y= valor,                        # eixo y, região\n",
    "                orientation='h',                 # gráfico na horizontal\n",
    "                name='Tarifa Média [R$/MWh]',    # Nome dos gráficos\n",
    "                marker={'color': '#38AECC'})     # Cor dos gráficos   \n",
    "    \n",
    "    config = go.Layout(title='Tarifa Média por Região [R$/MWh]- {}'.format(z), # Título do gráfico \n",
    "                    yaxis={'title': 'região'},                              # Título do eixo y \n",
    "                    xaxis={'title': ''})                                    # Título do eixo x\n",
    "    trace = [barra]                                                     # Variável que armazena o tipo de gráfico\n",
    "    fig30 = go.Figure(data=trace, layout=config)                                  # Transforma em fig as informações\n",
    "    \n",
    "    return fig30 \n",
    "    \n",
    "@app.callback(\n",
    "    Output('fig45', 'figure'),\n",
    "    Input('classe', 'value')\n",
    ")\n",
    "def gerargrafico(local):\n",
    "    if local=='Nor':\n",
    "        ss=0\n",
    "        s='Norte'\n",
    "    if local=='Nord':\n",
    "        ss=1\n",
    "        s='Nordeste'\n",
    "    if local=='Sd':\n",
    "        ss=2\n",
    "        s='Sudeste'\n",
    "    if local=='Sl':\n",
    "        ss=3\n",
    "        s='Sul'\n",
    "    if local=='CO':\n",
    "        ss=4\n",
    "        s='Centro-Oeste'\n",
    "    h=0                                                    #Declara vairável vazia\n",
    "    tabela12 = [[1 for i in range(3)] for i in range(7)]     #Declaro a matrix tabela 3x7\n",
    "    for q in range (7):                                    #Variável armazena os dados da região, determinando q receba e                                                               finalize em 7\n",
    "        for l in range (1):                                #Formando a matriz, determinando q l receba dado e siga as                                                                   instruções seguintes\n",
    "            tabela12[h][0]= dados12[q][l+ss]                        \n",
    "            tabela12[h][1]= (2012+q)                         \n",
    "            h=h+1   \n",
    "            \n",
    "    anos= []\n",
    "    for dado12 in tabela12:                                    #Procura o dado na tabela\n",
    "        anos.append(dado12[1])                               #Adiciona os valores dos dados aos anos\n",
    "    valor12= []         \n",
    "    for dado12 in tabela12:                                    #Procura o dado na tabela\n",
    "        valor12.append(dado12[0])                              #Adiciona os valores dos dados de consumo\n",
    "\n",
    "        \n",
    "    #Filtar dados de PIB\n",
    "    h=0                                                    #Declara vairável vazia\n",
    "    tabela13 = [[1 for i in range(3)] for i in range(7)]    #Declaro a matrix tabela 3x7\n",
    "    for q in range (7):                                    #Variável armazena os dados da região, determinando q receba e finalize em 7\n",
    "        for l in range (1):                                #Formando a matriz, determinando q l receba dado e siga as instruções seguintes\n",
    "            tabela13[h][0]= dados13[q][l+ss]\n",
    "            tabela13[h][1]= (2012+q)\n",
    "            \n",
    "            h=h+1  \n",
    "                                    #Adiciona os valores dos dados aos anos\n",
    "    valor13= []\n",
    "    for dadopib in tabela13:                                #Procura o dado na tabela\n",
    "        valor13.append(dadopib[0])                          #Adiciona os valores dos dados ao pib \n",
    "\n",
    "        \n",
    "    \n",
    "    # Criar grafico com dois eixos y\n",
    "    #Para criar gráfico com dois eixos, é necessário implementar do Boolean para make_subplots e eixos\n",
    "\n",
    "    fig45 = make_subplots(specs=[[{\"secondary_y\": True}]])   #Cria a fig com dois eixos y\n",
    "\n",
    "    # Add traces/linhas\n",
    "    fig45.add_trace(\n",
    "        go.Scatter(x=anos, y=valor12, name=\"consumo\",line = {'color': '#07325a'}),\n",
    "        secondary_y=False,                                 #Determina uma linha como False para a fig de dois y\n",
    "    )\n",
    "\n",
    "    fig45.add_trace(\n",
    "        go.Scatter(x=anos, y=valor13, name=\"PIB\",line = {'color': '#2178bb'}),\n",
    "        secondary_y=True,                                  #Determina uma linha como False para a fig de dois y\n",
    "    )\n",
    "\n",
    "    # Add figure title/título\n",
    "    fig45.update_layout(title = dict(\n",
    "                                    text='Consumo e PIB na Região {} [MWh/R$]'.format(s),\n",
    "                                    font=dict(size=20),\n",
    "                                    xref='paper', # Área central do gráfico\n",
    "                                    yref='container', # Área externa ao paper\n",
    "                                    x=0.5, # Faz o posicionamento horizontal do texto de acordo com o xref\n",
    "                                    y=0.95),\n",
    "    )\n",
    "\n",
    "    # Set x-axis title\n",
    "    fig45.update_xaxes(title_text=\"Anos\")                    #Nomeia linha x como anos\n",
    "\n",
    "    # Set y-axes titles\n",
    "    fig45.update_yaxes(title_text=\"Consumo\", secondary_y=False)\n",
    "    fig45.update_yaxes(title_text=\"PIB\", secondary_y=True)\n",
    "    fig45.update_layout(plot_bgcolor=\"#e8ecf4\")              #Background grafico\n",
    "    #fig.update_layout(paper_bgcolor=\"#A9E0ED\")            #Background grafico\n",
    "    fig45.update_layout(font_color=\"black\")                  #Cor da legenda \n",
    "\n",
    "    #Plota gráfico\n",
    "    return fig45\n",
    "    \n",
    "@app.callback(\n",
    "    Output(\"geracao\",\"figure\"),\n",
    "    Input(\"filtro\",\"value\")\n",
    ")\n",
    "\n",
    "def graficos(regiao):\n",
    "    f = open(\"Anuário Estatístico de Energia Elétrica 2020 - Workbook.xlsx - Tabela 2.4.csv\",encoding=\"utf8\")\n",
    "    # f.read lê todo o conteúdo do arquivo e retorna uma string\n",
    "    # .split(\"\\n\") divide essa string do conteudo em linhas\n",
    "    content = f.read().split(\"\\n\")\n",
    "    \n",
    "    #lista que armazena energia de cada região\n",
    "    armazena_data = filtra_dados(regiao)\n",
    "\n",
    "    #variável que armazena informações do gráfico      \n",
    "    linha = go.Scatter(x = years, #anos do gráfico, eixo x\n",
    "                       y = armazena_data, #energia do gráfico, eixo y\n",
    "                       mode = 'lines', #modo do gráfico, tipo linhas\n",
    "                       name = 'Geracao [GWh]', #nome das linhas\n",
    "                       line = {'color': '#2178bb'}) #cor das linhas\n",
    "\n",
    "    # abre o arquivo\n",
    "    f = open(\"Anuário Estatístico de Energia Elétrica 2020 - Workbook.xlsx - Tabela 3.1.csv\",encoding=\"utf8\")\n",
    "    # f.read lê todo o conteúdo do arquivo e retorna uma string\n",
    "    # .split(\"\\n\") divide essa string do conteudo em linhas\n",
    "    content = f.read().split(\"\\n\")\n",
    "    \n",
    "    #lista que armazena energia de cada região\n",
    "    armazena_data = filtra_dados(regiao)\n",
    "    #variável que armazena informações do gráfico\n",
    "    barra = go.Bar(x = years,#anos do gráfico, eixo x\n",
    "                       y = armazena_data, #energia do gráfico, eixo y\n",
    "                       name = 'Consumo [GWh]',#nome das barras\n",
    "                       marker = {'color': '#07325a'})#cor das barras\n",
    "\n",
    "\n",
    "    config = go.Layout( title = dict(\n",
    "                                text='Consumo Vs Geração na Região '+ regiao + ' [GWh]',\n",
    "                                font=dict(size=20),\n",
    "                                xref='paper', # Área central do gráfico\n",
    "                                yref='container', # Área externa ao paper\n",
    "                                x=0.5, # Faz o posicionamento horizontal do texto de acordo com o xref\n",
    "                                y=0.95), # Faz o posicionamento vertical do texto de acordo com yref#título do gráfico\n",
    "                                yaxis={'title':'Geração/Consumo [GWh]'}, #título eixo y\n",
    "                                xaxis={'title':''}) #título eixo x\n",
    "    trace = [linha, barra] #variável que armazena gráficos\n",
    "    fig = go.Figure(data=trace, layout=config)\n",
    "   \n",
    "    return fig\n",
    "\n",
    "if __name__ == '__main__':\n",
    "    app.run_server(debug = True, use_reloader = False)"
   ]
  },
  {
   "cell_type": "code",
   "execution_count": null,
   "id": "pleased-prototype",
   "metadata": {},
   "outputs": [],
   "source": []
  },
  {
   "cell_type": "code",
   "execution_count": null,
   "id": "incorporated-fantasy",
   "metadata": {},
   "outputs": [],
   "source": []
  }
 ],
 "metadata": {
  "kernelspec": {
   "display_name": "Python 3",
   "language": "python",
   "name": "python3"
  },
  "language_info": {
   "codemirror_mode": {
    "name": "ipython",
    "version": 3
   },
   "file_extension": ".py",
   "mimetype": "text/x-python",
   "name": "python",
   "nbconvert_exporter": "python",
   "pygments_lexer": "ipython3",
   "version": "3.6.9"
  }
 },
 "nbformat": 4,
 "nbformat_minor": 5
}
